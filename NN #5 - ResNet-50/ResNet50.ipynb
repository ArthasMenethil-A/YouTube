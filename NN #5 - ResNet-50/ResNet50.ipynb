{
  "cells": [
    {
      "cell_type": "markdown",
      "source": [
        "# RESIDUAL NEURAL NETWORK: RESNET-50\n",
        "\n",
        "Here we try to build the model architecutre of ResNet-50"
      ],
      "metadata": {
        "id": "e83Pnar62DGr"
      }
    },
    {
      "cell_type": "markdown",
      "source": [
        "## IMPORTS"
      ],
      "metadata": {
        "id": "FZo_9Ni_2Oxp"
      }
    },
    {
      "cell_type": "markdown",
      "source": [
        "***mount drive***"
      ],
      "metadata": {
        "id": "SzfjwHuZ2Wbi"
      }
    },
    {
      "cell_type": "code",
      "source": [
        "from google.colab import drive \n",
        "drive.mount(\"/content/drive\")"
      ],
      "metadata": {
        "colab": {
          "base_uri": "https://localhost:8080/"
        },
        "id": "t3g3XU_j2LCw",
        "outputId": "05ff34d9-a279-4b2b-96a2-be81bc78aede"
      },
      "execution_count": 1,
      "outputs": [
        {
          "output_type": "stream",
          "name": "stdout",
          "text": [
            "Mounted at /content/drive\n"
          ]
        }
      ]
    },
    {
      "cell_type": "markdown",
      "source": [
        "***general imports***"
      ],
      "metadata": {
        "id": "c5fbnl6o2ehq"
      }
    },
    {
      "cell_type": "code",
      "source": [
        "import os \n",
        "import numpy as np \n",
        "import pandas as pd \n",
        "import matplotlib.pyplot as plt \n",
        "from matplotlib.pyplot import imshow \n",
        "import pydot \n",
        "import scipy.misc\n",
        "from IPython.display import SVG"
      ],
      "metadata": {
        "id": "Fuy1RIpo2daD"
      },
      "execution_count": 2,
      "outputs": []
    },
    {
      "cell_type": "markdown",
      "source": [
        "***tensorflow and keras imports***"
      ],
      "metadata": {
        "id": "I4562IjT4MnK"
      }
    },
    {
      "cell_type": "code",
      "source": [
        "import tensorflow as tf\n",
        "from keras import layers \n",
        "\n",
        "from keras.layers import  Input, Add, Dense, Activation, ZeroPadding2D,\\\n",
        "                          BatchNormalization, Flatten, Conv2D, AveragePooling2D,\\\n",
        "                          MaxPooling2D, GlobalMaxPooling2D\n",
        "\n",
        "from keras.models import Model, load_model\n",
        "from keras.preprocessing import image \n",
        "from keras.utils import layer_utils\n",
        "from keras.utils.data_utils import get_file\n",
        "from keras.applications.imagenet_utils import preprocess_input \n",
        "from keras.utils.vis_utils import model_to_dot, plot_model\n",
        "from keras.initializers import glorot_uniform"
      ],
      "metadata": {
        "id": "K2Sm6COJ2sZW"
      },
      "execution_count": 3,
      "outputs": []
    },
    {
      "cell_type": "markdown",
      "source": [
        "## LOAD DATA\n",
        "\n",
        "we have four types of data. they consist of:\n",
        "- nut \n",
        "- washer\n",
        "- bolt\n",
        "- pin"
      ],
      "metadata": {
        "id": "Y7rBkPxY4pQe"
      }
    },
    {
      "cell_type": "markdown",
      "source": [
        "***loop over images and load them***"
      ],
      "metadata": {
        "id": "ZBEud-6tDiS5"
      }
    },
    {
      "cell_type": "code",
      "source": [
        "import cv2\n",
        "\n",
        "# setting the path \n",
        "dataset_path = \"/content/drive/MyDrive/Youtube/2 - ResNet50/data/\"\n",
        "\n",
        "# finding the classes in dataset\n",
        "classes = os.listdir(dataset_path)\n",
        "\n",
        "im_size = (64, 64)\n",
        "images=[]\n",
        "labels=[]\n",
        "\n",
        "# loop over all of the images --> loading each image --> resizing each image\n",
        "for class_ in classes:\n",
        "  class_path = dataset_path + str(class_)\n",
        "  filenames = [i for i in os.listdir(class_path)]\n",
        "\n",
        "  for filename in filenames:\n",
        "    image = cv2.imread(class_path + \"/\" + filename)\n",
        "    image = cv2.resize(image, im_size)\n",
        "\n",
        "    images.append(image)\n",
        "    labels.append(str(class_))\n",
        "\n",
        "labels = np.array(labels)\n",
        "labels.shape"
      ],
      "metadata": {
        "colab": {
          "base_uri": "https://localhost:8080/"
        },
        "id": "3lHLl7s-DsDI",
        "outputId": "15438c61-619d-42f2-9583-fc0d4c75c065"
      },
      "execution_count": 4,
      "outputs": [
        {
          "output_type": "execute_result",
          "data": {
            "text/plain": [
              "(226,)"
            ]
          },
          "metadata": {},
          "execution_count": 4
        }
      ]
    },
    {
      "cell_type": "markdown",
      "source": [
        "## PRE-PROCESSING DATA"
      ],
      "metadata": {
        "id": "csm9XRIFDZiX"
      }
    },
    {
      "cell_type": "markdown",
      "source": [
        "***image to numpy array***"
      ],
      "metadata": {
        "id": "iOpLW3wRDdWZ"
      }
    },
    {
      "cell_type": "code",
      "source": [
        "images = np.array(images)\n",
        "images.shape"
      ],
      "metadata": {
        "colab": {
          "base_uri": "https://localhost:8080/"
        },
        "id": "IL3rIwPUCslU",
        "outputId": "df979717-095c-49da-8510-d3acc1d782c7"
      },
      "execution_count": 5,
      "outputs": [
        {
          "output_type": "execute_result",
          "data": {
            "text/plain": [
              "(226, 64, 64, 3)"
            ]
          },
          "metadata": {},
          "execution_count": 5
        }
      ]
    },
    {
      "cell_type": "markdown",
      "source": [
        "***normalize***"
      ],
      "metadata": {
        "id": "dK-Yoo40FqOd"
      }
    },
    {
      "cell_type": "code",
      "source": [
        "images = images.astype(\"float32\")/255.0"
      ],
      "metadata": {
        "id": "o1Ozr6iKFpVX"
      },
      "execution_count": 6,
      "outputs": []
    },
    {
      "cell_type": "markdown",
      "source": [
        "***one-hot encoding***"
      ],
      "metadata": {
        "id": "qGwS-Np8F53r"
      }
    },
    {
      "cell_type": "code",
      "source": [
        "from sklearn.preprocessing import OneHotEncoder, LabelEncoder\n",
        "\n",
        "# converting to numpy array\n",
        "labels = np.array(labels)\n",
        "\n",
        "# converting labels from string to numbers \n",
        "labelencoder = LabelEncoder()\n",
        "labels = labelencoder.fit_transform(labels)\n",
        "\n",
        "# add another dimension\n",
        "labels = labels.reshape(-1,1)\n",
        "\n",
        "# create an instance of one-hot encoder\n",
        "onehotencoder=OneHotEncoder(categories='auto', sparse=False)\n",
        "\n",
        "# apply the one-hot encoder to the labels\n",
        "labels = onehotencoder.fit_transform(labels)\n",
        "\n",
        "print(labels.shape)"
      ],
      "metadata": {
        "colab": {
          "base_uri": "https://localhost:8080/",
          "height": 381
        },
        "id": "XCdYJUGsF4GG",
        "outputId": "a02588c4-421f-43b7-e67d-6c2c22a3d99d"
      },
      "execution_count": 15,
      "outputs": [
        {
          "output_type": "error",
          "ename": "ValueError",
          "evalue": "ignored",
          "traceback": [
            "\u001b[0;31m---------------------------------------------------------------------------\u001b[0m",
            "\u001b[0;31mValueError\u001b[0m                                Traceback (most recent call last)",
            "\u001b[0;32m<ipython-input-15-18acba56e1c3>\u001b[0m in \u001b[0;36m<module>\u001b[0;34m\u001b[0m\n\u001b[1;32m      6\u001b[0m \u001b[0;31m# converting labels from string to numbers\u001b[0m\u001b[0;34m\u001b[0m\u001b[0;34m\u001b[0m\u001b[0;34m\u001b[0m\u001b[0m\n\u001b[1;32m      7\u001b[0m \u001b[0mlabelencoder\u001b[0m \u001b[0;34m=\u001b[0m \u001b[0mLabelEncoder\u001b[0m\u001b[0;34m(\u001b[0m\u001b[0;34m)\u001b[0m\u001b[0;34m\u001b[0m\u001b[0;34m\u001b[0m\u001b[0m\n\u001b[0;32m----> 8\u001b[0;31m \u001b[0mlabels\u001b[0m \u001b[0;34m=\u001b[0m \u001b[0mlabelencoder\u001b[0m\u001b[0;34m.\u001b[0m\u001b[0mfit_transform\u001b[0m\u001b[0;34m(\u001b[0m\u001b[0mlabels\u001b[0m\u001b[0;34m)\u001b[0m\u001b[0;34m\u001b[0m\u001b[0;34m\u001b[0m\u001b[0m\n\u001b[0m\u001b[1;32m      9\u001b[0m \u001b[0;34m\u001b[0m\u001b[0m\n\u001b[1;32m     10\u001b[0m \u001b[0;31m# add another dimension\u001b[0m\u001b[0;34m\u001b[0m\u001b[0;34m\u001b[0m\u001b[0;34m\u001b[0m\u001b[0m\n",
            "\u001b[0;32m/usr/local/lib/python3.8/dist-packages/sklearn/preprocessing/_label.py\u001b[0m in \u001b[0;36mfit_transform\u001b[0;34m(self, y)\u001b[0m\n\u001b[1;32m    113\u001b[0m             \u001b[0mEncoded\u001b[0m \u001b[0mlabels\u001b[0m\u001b[0;34m.\u001b[0m\u001b[0;34m\u001b[0m\u001b[0;34m\u001b[0m\u001b[0m\n\u001b[1;32m    114\u001b[0m         \"\"\"\n\u001b[0;32m--> 115\u001b[0;31m         \u001b[0my\u001b[0m \u001b[0;34m=\u001b[0m \u001b[0mcolumn_or_1d\u001b[0m\u001b[0;34m(\u001b[0m\u001b[0my\u001b[0m\u001b[0;34m,\u001b[0m \u001b[0mwarn\u001b[0m\u001b[0;34m=\u001b[0m\u001b[0;32mTrue\u001b[0m\u001b[0;34m)\u001b[0m\u001b[0;34m\u001b[0m\u001b[0;34m\u001b[0m\u001b[0m\n\u001b[0m\u001b[1;32m    116\u001b[0m         \u001b[0mself\u001b[0m\u001b[0;34m.\u001b[0m\u001b[0mclasses_\u001b[0m\u001b[0;34m,\u001b[0m \u001b[0my\u001b[0m \u001b[0;34m=\u001b[0m \u001b[0m_unique\u001b[0m\u001b[0;34m(\u001b[0m\u001b[0my\u001b[0m\u001b[0;34m,\u001b[0m \u001b[0mreturn_inverse\u001b[0m\u001b[0;34m=\u001b[0m\u001b[0;32mTrue\u001b[0m\u001b[0;34m)\u001b[0m\u001b[0;34m\u001b[0m\u001b[0;34m\u001b[0m\u001b[0m\n\u001b[1;32m    117\u001b[0m         \u001b[0;32mreturn\u001b[0m \u001b[0my\u001b[0m\u001b[0;34m\u001b[0m\u001b[0;34m\u001b[0m\u001b[0m\n",
            "\u001b[0;32m/usr/local/lib/python3.8/dist-packages/sklearn/utils/validation.py\u001b[0m in \u001b[0;36mcolumn_or_1d\u001b[0;34m(y, warn)\u001b[0m\n\u001b[1;32m   1036\u001b[0m         \u001b[0;32mreturn\u001b[0m \u001b[0mnp\u001b[0m\u001b[0;34m.\u001b[0m\u001b[0mravel\u001b[0m\u001b[0;34m(\u001b[0m\u001b[0my\u001b[0m\u001b[0;34m)\u001b[0m\u001b[0;34m\u001b[0m\u001b[0;34m\u001b[0m\u001b[0m\n\u001b[1;32m   1037\u001b[0m \u001b[0;34m\u001b[0m\u001b[0m\n\u001b[0;32m-> 1038\u001b[0;31m     raise ValueError(\n\u001b[0m\u001b[1;32m   1039\u001b[0m         \u001b[0;34m\"y should be a 1d array, got an array of shape {} instead.\"\u001b[0m\u001b[0;34m.\u001b[0m\u001b[0mformat\u001b[0m\u001b[0;34m(\u001b[0m\u001b[0mshape\u001b[0m\u001b[0;34m)\u001b[0m\u001b[0;34m\u001b[0m\u001b[0;34m\u001b[0m\u001b[0m\n\u001b[1;32m   1040\u001b[0m     )\n",
            "\u001b[0;31mValueError\u001b[0m: y should be a 1d array, got an array of shape (226, 4) instead."
          ]
        }
      ]
    },
    {
      "cell_type": "markdown",
      "source": [
        "***shuffle and test/train split***"
      ],
      "metadata": {
        "id": "JrfHEdEZdJDQ"
      }
    },
    {
      "cell_type": "code",
      "source": [
        "from sklearn.utils import shuffle \n",
        "from sklearn.model_selection import train_test_split\n",
        "\n",
        "# shuffle data\n",
        "images, labels = shuffle(images, labels, random_state=69)\n",
        "\n",
        "# train/test split\n",
        "X_train, X_test, y_train, y_test = train_test_split(images, labels, test_size=0.2, random_state=420)\n",
        "\n",
        "print(X_train.shape)\n",
        "print(y_train.shape)"
      ],
      "metadata": {
        "colab": {
          "base_uri": "https://localhost:8080/"
        },
        "id": "5ejmnu_qamsw",
        "outputId": "9f33fa0a-fed9-4ffe-885c-2226a1cc1942"
      },
      "execution_count": 16,
      "outputs": [
        {
          "output_type": "stream",
          "name": "stdout",
          "text": [
            "(180, 64, 64, 3)\n",
            "(180, 4)\n"
          ]
        }
      ]
    },
    {
      "cell_type": "markdown",
      "source": [
        "## MODEL ARCHITECTURE"
      ],
      "metadata": {
        "id": "wNSQr6dnjBg7"
      }
    },
    {
      "cell_type": "markdown",
      "source": [
        "***build identity block***"
      ],
      "metadata": {
        "id": "y7i8looujDsD"
      }
    },
    {
      "cell_type": "code",
      "source": [
        "def identity_block(X, kernel_size, filters, stage, block):\n",
        "\n",
        "  conv_name_base = \"res\" + str(stage) + block + \"_branch\"\n",
        "  bn_name_base = \"bn\" + str(stage) + block + \"_branch\"\n",
        "\n",
        "  F1, F2, F3 = filters\n",
        "\n",
        "  X_shortcut = X\n",
        "\n",
        "  X = Conv2D(filters = F1, kernel_size = (1, 1), strides = (1,1), padding = 'valid', name = conv_name_base + '2a')(X)\n",
        "  X = BatchNormalization(axis = 3, name = bn_name_base + '2a')(X)\n",
        "  X = Activation('relu')(X)\n",
        "\n",
        "  X = Conv2D(filters = F2, kernel_size = (kernel_size, kernel_size), strides = (1,1), padding = 'same', name = conv_name_base + '2b')(X)\n",
        "  X = BatchNormalization(axis = 3, name = bn_name_base + '2b')(X)\n",
        "  X = Activation('relu')(X)\n",
        "\n",
        "  X = Conv2D(filters = F3, kernel_size = (1, 1), strides = (1,1), padding = 'valid', name = conv_name_base + '2c')(X)\n",
        "  X = BatchNormalization(axis = 3, name = bn_name_base + '2c')(X)\n",
        "\n",
        "  X = Add()([X, X_shortcut])\n",
        "  X = Activation('relu')(X)\n",
        "\n",
        "  return X"
      ],
      "metadata": {
        "id": "ZSGeP5Fifi-A"
      },
      "execution_count": 17,
      "outputs": []
    },
    {
      "cell_type": "markdown",
      "source": [
        "***build convolutional block***"
      ],
      "metadata": {
        "id": "TguFyGAvkUfg"
      }
    },
    {
      "cell_type": "code",
      "source": [
        "def convolutional_block(X, kernel_size, filters, stage, block, s = 2):\n",
        "    \n",
        "    conv_name_base = 'res' + str(stage) + block + '_branch'\n",
        "    bn_name_base = 'bn' + str(stage) + block + '_branch'\n",
        "    \n",
        "    F1, F2, F3 = filters\n",
        "    \n",
        "    X_shortcut = X\n",
        "    \n",
        "    X = Conv2D(F1, (1, 1), strides = (s,s), name = conv_name_base + '2a')(X) \n",
        "    X = BatchNormalization(axis = 3, name = bn_name_base + '2a')(X)  \n",
        "    X = Activation('relu')(X)\n",
        "    \n",
        "    X = Conv2D(filters = F2, kernel_size = (kernel_size, kernel_size), strides = (1,1), padding = 'same', name = conv_name_base + '2b')(X)\n",
        "    X = BatchNormalization(axis = 3, name = bn_name_base + '2b')(X)\n",
        "    X = Activation('relu')(X)\n",
        "\n",
        "    X = Conv2D(filters = F3, kernel_size = (1, 1), strides = (1,1), padding = 'valid', name = conv_name_base + '2c')(X)\n",
        "    X = BatchNormalization(axis = 3, name = bn_name_base + '2c')(X)\n",
        "\n",
        "    X_shortcut = Conv2D(filters = F3, kernel_size = (1, 1), strides = (s,s), padding = 'valid', name = conv_name_base + '1')(X_shortcut)\n",
        "    X_shortcut = BatchNormalization(axis = 3, name = bn_name_base + '1')(X_shortcut)\n",
        "\n",
        "    X = Add()([X, X_shortcut])\n",
        "    X = Activation('relu')(X)\n",
        "    \n",
        "    return X"
      ],
      "metadata": {
        "id": "yzF10RVBkWiz"
      },
      "execution_count": 18,
      "outputs": []
    },
    {
      "cell_type": "markdown",
      "source": [
        "***build model structure***"
      ],
      "metadata": {
        "id": "dRz6ZpHzkl0e"
      }
    },
    {
      "cell_type": "code",
      "source": [
        "def ResNet50(input_shape=(64, 64, 3), classes=4):\n",
        "    \n",
        "    X_input = Input(input_shape)\n",
        "\n",
        "    X = ZeroPadding2D((3, 3))(X_input) \n",
        "\n",
        "    X = Conv2D(64, (7, 7), strides=(2, 2), name='conv1')(X)  \n",
        "    X = BatchNormalization(axis=3, name='bn_conv1')(X) \n",
        "    X = Activation('relu')(X)\n",
        "    X = MaxPooling2D((3, 3), strides=(2, 2))(X) \n",
        "\n",
        "    X = convolutional_block(X, kernel_size=3, filters=[64, 64, 256], stage=2, block='a', s=1)\n",
        "   \n",
        "    X = identity_block(X, 3, [64, 64, 256], stage=2, block='b') \n",
        "    \n",
        "    X = identity_block(X, 3, [64, 64, 256], stage=2, block='c')\n",
        "\n",
        "    # ----------\n",
        "    \n",
        "    X = convolutional_block(X, kernel_size = 3, filters = [128, 128, 512], stage = 3, block='a', s = 2)\n",
        "    X = identity_block(X, 3, [128, 128, 512], stage=3, block='b')\n",
        "    X = identity_block(X, 3, [128, 128, 512], stage=3, block='c')\n",
        "    X = identity_block(X, 3, [128, 128, 512], stage=3, block='d')\n",
        "\n",
        "    X = convolutional_block(X, kernel_size = 3, filters = [256, 256, 1024], stage = 4, block='a', s = 2)\n",
        "    X = identity_block(X, 3, [256, 256, 1024], stage=4, block='b')\n",
        "    X = identity_block(X, 3, [256, 256, 1024], stage=4, block='c')\n",
        "    X = identity_block(X, 3, [256, 256, 1024], stage=4, block='d')\n",
        "    X = identity_block(X, 3, [256, 256, 1024], stage=4, block='e')\n",
        "    X = identity_block(X, 3, [256, 256, 1024], stage=4, block='f')\n",
        "     \n",
        "    X = convolutional_block(X, kernel_size = 3, filters = [512, 512, 2048], stage = 5, block='a', s = 2)\n",
        "    X = identity_block(X, 3, [512, 512, 2048], stage=5, block='b')\n",
        "    X = identity_block(X, 3, [512, 512, 2048], stage=5, block='c')\n",
        "\n",
        "    X = AveragePooling2D((2,2), name=\"avg_pool\")(X)\n",
        "    \n",
        "    X = Flatten()(X)\n",
        "    X = Dense(classes, activation='softmax', name='fc' + str(classes), kernel_initializer = glorot_uniform(seed=0))(X)\n",
        "    \n",
        "    model = Model(inputs = X_input, outputs = X, name='ResNet50')\n",
        "\n",
        "    return model"
      ],
      "metadata": {
        "id": "h1-H1tndknfC"
      },
      "execution_count": 19,
      "outputs": []
    },
    {
      "cell_type": "markdown",
      "source": [
        "## COMPILE AND TRAIN MODEL"
      ],
      "metadata": {
        "id": "1sqKM2PblaiG"
      }
    },
    {
      "cell_type": "markdown",
      "source": [
        "***create an instance of the built model***"
      ],
      "metadata": {
        "id": "PtJYGCEZlsLy"
      }
    },
    {
      "cell_type": "code",
      "source": [
        "model = ResNet50(input_shape = (64, 64, 3), classes=4)\n",
        "\n",
        "model.summary()"
      ],
      "metadata": {
        "colab": {
          "base_uri": "https://localhost:8080/"
        },
        "id": "8__NhgFblent",
        "outputId": "ab29bed9-b332-4f83-f3a5-5c48f514d988"
      },
      "execution_count": 20,
      "outputs": [
        {
          "output_type": "stream",
          "name": "stdout",
          "text": [
            "Model: \"ResNet50\"\n",
            "__________________________________________________________________________________________________\n",
            " Layer (type)                   Output Shape         Param #     Connected to                     \n",
            "==================================================================================================\n",
            " input_2 (InputLayer)           [(None, 64, 64, 3)]  0           []                               \n",
            "                                                                                                  \n",
            " zero_padding2d_1 (ZeroPadding2  (None, 70, 70, 3)   0           ['input_2[0][0]']                \n",
            " D)                                                                                               \n",
            "                                                                                                  \n",
            " conv1 (Conv2D)                 (None, 32, 32, 64)   9472        ['zero_padding2d_1[0][0]']       \n",
            "                                                                                                  \n",
            " bn_conv1 (BatchNormalization)  (None, 32, 32, 64)   256         ['conv1[0][0]']                  \n",
            "                                                                                                  \n",
            " activation_49 (Activation)     (None, 32, 32, 64)   0           ['bn_conv1[0][0]']               \n",
            "                                                                                                  \n",
            " max_pooling2d_1 (MaxPooling2D)  (None, 15, 15, 64)  0           ['activation_49[0][0]']          \n",
            "                                                                                                  \n",
            " res2a_branch2a (Conv2D)        (None, 15, 15, 64)   4160        ['max_pooling2d_1[0][0]']        \n",
            "                                                                                                  \n",
            " bn2a_branch2a (BatchNormalizat  (None, 15, 15, 64)  256         ['res2a_branch2a[0][0]']         \n",
            " ion)                                                                                             \n",
            "                                                                                                  \n",
            " activation_50 (Activation)     (None, 15, 15, 64)   0           ['bn2a_branch2a[0][0]']          \n",
            "                                                                                                  \n",
            " res2a_branch2b (Conv2D)        (None, 15, 15, 64)   36928       ['activation_50[0][0]']          \n",
            "                                                                                                  \n",
            " bn2a_branch2b (BatchNormalizat  (None, 15, 15, 64)  256         ['res2a_branch2b[0][0]']         \n",
            " ion)                                                                                             \n",
            "                                                                                                  \n",
            " activation_51 (Activation)     (None, 15, 15, 64)   0           ['bn2a_branch2b[0][0]']          \n",
            "                                                                                                  \n",
            " res2a_branch2c (Conv2D)        (None, 15, 15, 256)  16640       ['activation_51[0][0]']          \n",
            "                                                                                                  \n",
            " res2a_branch1 (Conv2D)         (None, 15, 15, 256)  16640       ['max_pooling2d_1[0][0]']        \n",
            "                                                                                                  \n",
            " bn2a_branch2c (BatchNormalizat  (None, 15, 15, 256)  1024       ['res2a_branch2c[0][0]']         \n",
            " ion)                                                                                             \n",
            "                                                                                                  \n",
            " bn2a_branch1 (BatchNormalizati  (None, 15, 15, 256)  1024       ['res2a_branch1[0][0]']          \n",
            " on)                                                                                              \n",
            "                                                                                                  \n",
            " add_16 (Add)                   (None, 15, 15, 256)  0           ['bn2a_branch2c[0][0]',          \n",
            "                                                                  'bn2a_branch1[0][0]']           \n",
            "                                                                                                  \n",
            " activation_52 (Activation)     (None, 15, 15, 256)  0           ['add_16[0][0]']                 \n",
            "                                                                                                  \n",
            " res2b_branch2a (Conv2D)        (None, 15, 15, 64)   16448       ['activation_52[0][0]']          \n",
            "                                                                                                  \n",
            " bn2b_branch2a (BatchNormalizat  (None, 15, 15, 64)  256         ['res2b_branch2a[0][0]']         \n",
            " ion)                                                                                             \n",
            "                                                                                                  \n",
            " activation_53 (Activation)     (None, 15, 15, 64)   0           ['bn2b_branch2a[0][0]']          \n",
            "                                                                                                  \n",
            " res2b_branch2b (Conv2D)        (None, 15, 15, 64)   36928       ['activation_53[0][0]']          \n",
            "                                                                                                  \n",
            " bn2b_branch2b (BatchNormalizat  (None, 15, 15, 64)  256         ['res2b_branch2b[0][0]']         \n",
            " ion)                                                                                             \n",
            "                                                                                                  \n",
            " activation_54 (Activation)     (None, 15, 15, 64)   0           ['bn2b_branch2b[0][0]']          \n",
            "                                                                                                  \n",
            " res2b_branch2c (Conv2D)        (None, 15, 15, 256)  16640       ['activation_54[0][0]']          \n",
            "                                                                                                  \n",
            " bn2b_branch2c (BatchNormalizat  (None, 15, 15, 256)  1024       ['res2b_branch2c[0][0]']         \n",
            " ion)                                                                                             \n",
            "                                                                                                  \n",
            " add_17 (Add)                   (None, 15, 15, 256)  0           ['bn2b_branch2c[0][0]',          \n",
            "                                                                  'activation_52[0][0]']          \n",
            "                                                                                                  \n",
            " activation_55 (Activation)     (None, 15, 15, 256)  0           ['add_17[0][0]']                 \n",
            "                                                                                                  \n",
            " res2c_branch2a (Conv2D)        (None, 15, 15, 64)   16448       ['activation_55[0][0]']          \n",
            "                                                                                                  \n",
            " bn2c_branch2a (BatchNormalizat  (None, 15, 15, 64)  256         ['res2c_branch2a[0][0]']         \n",
            " ion)                                                                                             \n",
            "                                                                                                  \n",
            " activation_56 (Activation)     (None, 15, 15, 64)   0           ['bn2c_branch2a[0][0]']          \n",
            "                                                                                                  \n",
            " res2c_branch2b (Conv2D)        (None, 15, 15, 64)   36928       ['activation_56[0][0]']          \n",
            "                                                                                                  \n",
            " bn2c_branch2b (BatchNormalizat  (None, 15, 15, 64)  256         ['res2c_branch2b[0][0]']         \n",
            " ion)                                                                                             \n",
            "                                                                                                  \n",
            " activation_57 (Activation)     (None, 15, 15, 64)   0           ['bn2c_branch2b[0][0]']          \n",
            "                                                                                                  \n",
            " res2c_branch2c (Conv2D)        (None, 15, 15, 256)  16640       ['activation_57[0][0]']          \n",
            "                                                                                                  \n",
            " bn2c_branch2c (BatchNormalizat  (None, 15, 15, 256)  1024       ['res2c_branch2c[0][0]']         \n",
            " ion)                                                                                             \n",
            "                                                                                                  \n",
            " add_18 (Add)                   (None, 15, 15, 256)  0           ['bn2c_branch2c[0][0]',          \n",
            "                                                                  'activation_55[0][0]']          \n",
            "                                                                                                  \n",
            " activation_58 (Activation)     (None, 15, 15, 256)  0           ['add_18[0][0]']                 \n",
            "                                                                                                  \n",
            " res3a_branch2a (Conv2D)        (None, 8, 8, 128)    32896       ['activation_58[0][0]']          \n",
            "                                                                                                  \n",
            " bn3a_branch2a (BatchNormalizat  (None, 8, 8, 128)   512         ['res3a_branch2a[0][0]']         \n",
            " ion)                                                                                             \n",
            "                                                                                                  \n",
            " activation_59 (Activation)     (None, 8, 8, 128)    0           ['bn3a_branch2a[0][0]']          \n",
            "                                                                                                  \n",
            " res3a_branch2b (Conv2D)        (None, 8, 8, 128)    147584      ['activation_59[0][0]']          \n",
            "                                                                                                  \n",
            " bn3a_branch2b (BatchNormalizat  (None, 8, 8, 128)   512         ['res3a_branch2b[0][0]']         \n",
            " ion)                                                                                             \n",
            "                                                                                                  \n",
            " activation_60 (Activation)     (None, 8, 8, 128)    0           ['bn3a_branch2b[0][0]']          \n",
            "                                                                                                  \n",
            " res3a_branch2c (Conv2D)        (None, 8, 8, 512)    66048       ['activation_60[0][0]']          \n",
            "                                                                                                  \n",
            " res3a_branch1 (Conv2D)         (None, 8, 8, 512)    131584      ['activation_58[0][0]']          \n",
            "                                                                                                  \n",
            " bn3a_branch2c (BatchNormalizat  (None, 8, 8, 512)   2048        ['res3a_branch2c[0][0]']         \n",
            " ion)                                                                                             \n",
            "                                                                                                  \n",
            " bn3a_branch1 (BatchNormalizati  (None, 8, 8, 512)   2048        ['res3a_branch1[0][0]']          \n",
            " on)                                                                                              \n",
            "                                                                                                  \n",
            " add_19 (Add)                   (None, 8, 8, 512)    0           ['bn3a_branch2c[0][0]',          \n",
            "                                                                  'bn3a_branch1[0][0]']           \n",
            "                                                                                                  \n",
            " activation_61 (Activation)     (None, 8, 8, 512)    0           ['add_19[0][0]']                 \n",
            "                                                                                                  \n",
            " res3b_branch2a (Conv2D)        (None, 8, 8, 128)    65664       ['activation_61[0][0]']          \n",
            "                                                                                                  \n",
            " bn3b_branch2a (BatchNormalizat  (None, 8, 8, 128)   512         ['res3b_branch2a[0][0]']         \n",
            " ion)                                                                                             \n",
            "                                                                                                  \n",
            " activation_62 (Activation)     (None, 8, 8, 128)    0           ['bn3b_branch2a[0][0]']          \n",
            "                                                                                                  \n",
            " res3b_branch2b (Conv2D)        (None, 8, 8, 128)    147584      ['activation_62[0][0]']          \n",
            "                                                                                                  \n",
            " bn3b_branch2b (BatchNormalizat  (None, 8, 8, 128)   512         ['res3b_branch2b[0][0]']         \n",
            " ion)                                                                                             \n",
            "                                                                                                  \n",
            " activation_63 (Activation)     (None, 8, 8, 128)    0           ['bn3b_branch2b[0][0]']          \n",
            "                                                                                                  \n",
            " res3b_branch2c (Conv2D)        (None, 8, 8, 512)    66048       ['activation_63[0][0]']          \n",
            "                                                                                                  \n",
            " bn3b_branch2c (BatchNormalizat  (None, 8, 8, 512)   2048        ['res3b_branch2c[0][0]']         \n",
            " ion)                                                                                             \n",
            "                                                                                                  \n",
            " add_20 (Add)                   (None, 8, 8, 512)    0           ['bn3b_branch2c[0][0]',          \n",
            "                                                                  'activation_61[0][0]']          \n",
            "                                                                                                  \n",
            " activation_64 (Activation)     (None, 8, 8, 512)    0           ['add_20[0][0]']                 \n",
            "                                                                                                  \n",
            " res3c_branch2a (Conv2D)        (None, 8, 8, 128)    65664       ['activation_64[0][0]']          \n",
            "                                                                                                  \n",
            " bn3c_branch2a (BatchNormalizat  (None, 8, 8, 128)   512         ['res3c_branch2a[0][0]']         \n",
            " ion)                                                                                             \n",
            "                                                                                                  \n",
            " activation_65 (Activation)     (None, 8, 8, 128)    0           ['bn3c_branch2a[0][0]']          \n",
            "                                                                                                  \n",
            " res3c_branch2b (Conv2D)        (None, 8, 8, 128)    147584      ['activation_65[0][0]']          \n",
            "                                                                                                  \n",
            " bn3c_branch2b (BatchNormalizat  (None, 8, 8, 128)   512         ['res3c_branch2b[0][0]']         \n",
            " ion)                                                                                             \n",
            "                                                                                                  \n",
            " activation_66 (Activation)     (None, 8, 8, 128)    0           ['bn3c_branch2b[0][0]']          \n",
            "                                                                                                  \n",
            " res3c_branch2c (Conv2D)        (None, 8, 8, 512)    66048       ['activation_66[0][0]']          \n",
            "                                                                                                  \n",
            " bn3c_branch2c (BatchNormalizat  (None, 8, 8, 512)   2048        ['res3c_branch2c[0][0]']         \n",
            " ion)                                                                                             \n",
            "                                                                                                  \n",
            " add_21 (Add)                   (None, 8, 8, 512)    0           ['bn3c_branch2c[0][0]',          \n",
            "                                                                  'activation_64[0][0]']          \n",
            "                                                                                                  \n",
            " activation_67 (Activation)     (None, 8, 8, 512)    0           ['add_21[0][0]']                 \n",
            "                                                                                                  \n",
            " res3d_branch2a (Conv2D)        (None, 8, 8, 128)    65664       ['activation_67[0][0]']          \n",
            "                                                                                                  \n",
            " bn3d_branch2a (BatchNormalizat  (None, 8, 8, 128)   512         ['res3d_branch2a[0][0]']         \n",
            " ion)                                                                                             \n",
            "                                                                                                  \n",
            " activation_68 (Activation)     (None, 8, 8, 128)    0           ['bn3d_branch2a[0][0]']          \n",
            "                                                                                                  \n",
            " res3d_branch2b (Conv2D)        (None, 8, 8, 128)    147584      ['activation_68[0][0]']          \n",
            "                                                                                                  \n",
            " bn3d_branch2b (BatchNormalizat  (None, 8, 8, 128)   512         ['res3d_branch2b[0][0]']         \n",
            " ion)                                                                                             \n",
            "                                                                                                  \n",
            " activation_69 (Activation)     (None, 8, 8, 128)    0           ['bn3d_branch2b[0][0]']          \n",
            "                                                                                                  \n",
            " res3d_branch2c (Conv2D)        (None, 8, 8, 512)    66048       ['activation_69[0][0]']          \n",
            "                                                                                                  \n",
            " bn3d_branch2c (BatchNormalizat  (None, 8, 8, 512)   2048        ['res3d_branch2c[0][0]']         \n",
            " ion)                                                                                             \n",
            "                                                                                                  \n",
            " add_22 (Add)                   (None, 8, 8, 512)    0           ['bn3d_branch2c[0][0]',          \n",
            "                                                                  'activation_67[0][0]']          \n",
            "                                                                                                  \n",
            " activation_70 (Activation)     (None, 8, 8, 512)    0           ['add_22[0][0]']                 \n",
            "                                                                                                  \n",
            " res4a_branch2a (Conv2D)        (None, 4, 4, 256)    131328      ['activation_70[0][0]']          \n",
            "                                                                                                  \n",
            " bn4a_branch2a (BatchNormalizat  (None, 4, 4, 256)   1024        ['res4a_branch2a[0][0]']         \n",
            " ion)                                                                                             \n",
            "                                                                                                  \n",
            " activation_71 (Activation)     (None, 4, 4, 256)    0           ['bn4a_branch2a[0][0]']          \n",
            "                                                                                                  \n",
            " res4a_branch2b (Conv2D)        (None, 4, 4, 256)    590080      ['activation_71[0][0]']          \n",
            "                                                                                                  \n",
            " bn4a_branch2b (BatchNormalizat  (None, 4, 4, 256)   1024        ['res4a_branch2b[0][0]']         \n",
            " ion)                                                                                             \n",
            "                                                                                                  \n",
            " activation_72 (Activation)     (None, 4, 4, 256)    0           ['bn4a_branch2b[0][0]']          \n",
            "                                                                                                  \n",
            " res4a_branch2c (Conv2D)        (None, 4, 4, 1024)   263168      ['activation_72[0][0]']          \n",
            "                                                                                                  \n",
            " res4a_branch1 (Conv2D)         (None, 4, 4, 1024)   525312      ['activation_70[0][0]']          \n",
            "                                                                                                  \n",
            " bn4a_branch2c (BatchNormalizat  (None, 4, 4, 1024)  4096        ['res4a_branch2c[0][0]']         \n",
            " ion)                                                                                             \n",
            "                                                                                                  \n",
            " bn4a_branch1 (BatchNormalizati  (None, 4, 4, 1024)  4096        ['res4a_branch1[0][0]']          \n",
            " on)                                                                                              \n",
            "                                                                                                  \n",
            " add_23 (Add)                   (None, 4, 4, 1024)   0           ['bn4a_branch2c[0][0]',          \n",
            "                                                                  'bn4a_branch1[0][0]']           \n",
            "                                                                                                  \n",
            " activation_73 (Activation)     (None, 4, 4, 1024)   0           ['add_23[0][0]']                 \n",
            "                                                                                                  \n",
            " res4b_branch2a (Conv2D)        (None, 4, 4, 256)    262400      ['activation_73[0][0]']          \n",
            "                                                                                                  \n",
            " bn4b_branch2a (BatchNormalizat  (None, 4, 4, 256)   1024        ['res4b_branch2a[0][0]']         \n",
            " ion)                                                                                             \n",
            "                                                                                                  \n",
            " activation_74 (Activation)     (None, 4, 4, 256)    0           ['bn4b_branch2a[0][0]']          \n",
            "                                                                                                  \n",
            " res4b_branch2b (Conv2D)        (None, 4, 4, 256)    590080      ['activation_74[0][0]']          \n",
            "                                                                                                  \n",
            " bn4b_branch2b (BatchNormalizat  (None, 4, 4, 256)   1024        ['res4b_branch2b[0][0]']         \n",
            " ion)                                                                                             \n",
            "                                                                                                  \n",
            " activation_75 (Activation)     (None, 4, 4, 256)    0           ['bn4b_branch2b[0][0]']          \n",
            "                                                                                                  \n",
            " res4b_branch2c (Conv2D)        (None, 4, 4, 1024)   263168      ['activation_75[0][0]']          \n",
            "                                                                                                  \n",
            " bn4b_branch2c (BatchNormalizat  (None, 4, 4, 1024)  4096        ['res4b_branch2c[0][0]']         \n",
            " ion)                                                                                             \n",
            "                                                                                                  \n",
            " add_24 (Add)                   (None, 4, 4, 1024)   0           ['bn4b_branch2c[0][0]',          \n",
            "                                                                  'activation_73[0][0]']          \n",
            "                                                                                                  \n",
            " activation_76 (Activation)     (None, 4, 4, 1024)   0           ['add_24[0][0]']                 \n",
            "                                                                                                  \n",
            " res4c_branch2a (Conv2D)        (None, 4, 4, 256)    262400      ['activation_76[0][0]']          \n",
            "                                                                                                  \n",
            " bn4c_branch2a (BatchNormalizat  (None, 4, 4, 256)   1024        ['res4c_branch2a[0][0]']         \n",
            " ion)                                                                                             \n",
            "                                                                                                  \n",
            " activation_77 (Activation)     (None, 4, 4, 256)    0           ['bn4c_branch2a[0][0]']          \n",
            "                                                                                                  \n",
            " res4c_branch2b (Conv2D)        (None, 4, 4, 256)    590080      ['activation_77[0][0]']          \n",
            "                                                                                                  \n",
            " bn4c_branch2b (BatchNormalizat  (None, 4, 4, 256)   1024        ['res4c_branch2b[0][0]']         \n",
            " ion)                                                                                             \n",
            "                                                                                                  \n",
            " activation_78 (Activation)     (None, 4, 4, 256)    0           ['bn4c_branch2b[0][0]']          \n",
            "                                                                                                  \n",
            " res4c_branch2c (Conv2D)        (None, 4, 4, 1024)   263168      ['activation_78[0][0]']          \n",
            "                                                                                                  \n",
            " bn4c_branch2c (BatchNormalizat  (None, 4, 4, 1024)  4096        ['res4c_branch2c[0][0]']         \n",
            " ion)                                                                                             \n",
            "                                                                                                  \n",
            " add_25 (Add)                   (None, 4, 4, 1024)   0           ['bn4c_branch2c[0][0]',          \n",
            "                                                                  'activation_76[0][0]']          \n",
            "                                                                                                  \n",
            " activation_79 (Activation)     (None, 4, 4, 1024)   0           ['add_25[0][0]']                 \n",
            "                                                                                                  \n",
            " res4d_branch2a (Conv2D)        (None, 4, 4, 256)    262400      ['activation_79[0][0]']          \n",
            "                                                                                                  \n",
            " bn4d_branch2a (BatchNormalizat  (None, 4, 4, 256)   1024        ['res4d_branch2a[0][0]']         \n",
            " ion)                                                                                             \n",
            "                                                                                                  \n",
            " activation_80 (Activation)     (None, 4, 4, 256)    0           ['bn4d_branch2a[0][0]']          \n",
            "                                                                                                  \n",
            " res4d_branch2b (Conv2D)        (None, 4, 4, 256)    590080      ['activation_80[0][0]']          \n",
            "                                                                                                  \n",
            " bn4d_branch2b (BatchNormalizat  (None, 4, 4, 256)   1024        ['res4d_branch2b[0][0]']         \n",
            " ion)                                                                                             \n",
            "                                                                                                  \n",
            " activation_81 (Activation)     (None, 4, 4, 256)    0           ['bn4d_branch2b[0][0]']          \n",
            "                                                                                                  \n",
            " res4d_branch2c (Conv2D)        (None, 4, 4, 1024)   263168      ['activation_81[0][0]']          \n",
            "                                                                                                  \n",
            " bn4d_branch2c (BatchNormalizat  (None, 4, 4, 1024)  4096        ['res4d_branch2c[0][0]']         \n",
            " ion)                                                                                             \n",
            "                                                                                                  \n",
            " add_26 (Add)                   (None, 4, 4, 1024)   0           ['bn4d_branch2c[0][0]',          \n",
            "                                                                  'activation_79[0][0]']          \n",
            "                                                                                                  \n",
            " activation_82 (Activation)     (None, 4, 4, 1024)   0           ['add_26[0][0]']                 \n",
            "                                                                                                  \n",
            " res4e_branch2a (Conv2D)        (None, 4, 4, 256)    262400      ['activation_82[0][0]']          \n",
            "                                                                                                  \n",
            " bn4e_branch2a (BatchNormalizat  (None, 4, 4, 256)   1024        ['res4e_branch2a[0][0]']         \n",
            " ion)                                                                                             \n",
            "                                                                                                  \n",
            " activation_83 (Activation)     (None, 4, 4, 256)    0           ['bn4e_branch2a[0][0]']          \n",
            "                                                                                                  \n",
            " res4e_branch2b (Conv2D)        (None, 4, 4, 256)    590080      ['activation_83[0][0]']          \n",
            "                                                                                                  \n",
            " bn4e_branch2b (BatchNormalizat  (None, 4, 4, 256)   1024        ['res4e_branch2b[0][0]']         \n",
            " ion)                                                                                             \n",
            "                                                                                                  \n",
            " activation_84 (Activation)     (None, 4, 4, 256)    0           ['bn4e_branch2b[0][0]']          \n",
            "                                                                                                  \n",
            " res4e_branch2c (Conv2D)        (None, 4, 4, 1024)   263168      ['activation_84[0][0]']          \n",
            "                                                                                                  \n",
            " bn4e_branch2c (BatchNormalizat  (None, 4, 4, 1024)  4096        ['res4e_branch2c[0][0]']         \n",
            " ion)                                                                                             \n",
            "                                                                                                  \n",
            " add_27 (Add)                   (None, 4, 4, 1024)   0           ['bn4e_branch2c[0][0]',          \n",
            "                                                                  'activation_82[0][0]']          \n",
            "                                                                                                  \n",
            " activation_85 (Activation)     (None, 4, 4, 1024)   0           ['add_27[0][0]']                 \n",
            "                                                                                                  \n",
            " res4f_branch2a (Conv2D)        (None, 4, 4, 256)    262400      ['activation_85[0][0]']          \n",
            "                                                                                                  \n",
            " bn4f_branch2a (BatchNormalizat  (None, 4, 4, 256)   1024        ['res4f_branch2a[0][0]']         \n",
            " ion)                                                                                             \n",
            "                                                                                                  \n",
            " activation_86 (Activation)     (None, 4, 4, 256)    0           ['bn4f_branch2a[0][0]']          \n",
            "                                                                                                  \n",
            " res4f_branch2b (Conv2D)        (None, 4, 4, 256)    590080      ['activation_86[0][0]']          \n",
            "                                                                                                  \n",
            " bn4f_branch2b (BatchNormalizat  (None, 4, 4, 256)   1024        ['res4f_branch2b[0][0]']         \n",
            " ion)                                                                                             \n",
            "                                                                                                  \n",
            " activation_87 (Activation)     (None, 4, 4, 256)    0           ['bn4f_branch2b[0][0]']          \n",
            "                                                                                                  \n",
            " res4f_branch2c (Conv2D)        (None, 4, 4, 1024)   263168      ['activation_87[0][0]']          \n",
            "                                                                                                  \n",
            " bn4f_branch2c (BatchNormalizat  (None, 4, 4, 1024)  4096        ['res4f_branch2c[0][0]']         \n",
            " ion)                                                                                             \n",
            "                                                                                                  \n",
            " add_28 (Add)                   (None, 4, 4, 1024)   0           ['bn4f_branch2c[0][0]',          \n",
            "                                                                  'activation_85[0][0]']          \n",
            "                                                                                                  \n",
            " activation_88 (Activation)     (None, 4, 4, 1024)   0           ['add_28[0][0]']                 \n",
            "                                                                                                  \n",
            " res5a_branch2a (Conv2D)        (None, 2, 2, 512)    524800      ['activation_88[0][0]']          \n",
            "                                                                                                  \n",
            " bn5a_branch2a (BatchNormalizat  (None, 2, 2, 512)   2048        ['res5a_branch2a[0][0]']         \n",
            " ion)                                                                                             \n",
            "                                                                                                  \n",
            " activation_89 (Activation)     (None, 2, 2, 512)    0           ['bn5a_branch2a[0][0]']          \n",
            "                                                                                                  \n",
            " res5a_branch2b (Conv2D)        (None, 2, 2, 512)    2359808     ['activation_89[0][0]']          \n",
            "                                                                                                  \n",
            " bn5a_branch2b (BatchNormalizat  (None, 2, 2, 512)   2048        ['res5a_branch2b[0][0]']         \n",
            " ion)                                                                                             \n",
            "                                                                                                  \n",
            " activation_90 (Activation)     (None, 2, 2, 512)    0           ['bn5a_branch2b[0][0]']          \n",
            "                                                                                                  \n",
            " res5a_branch2c (Conv2D)        (None, 2, 2, 2048)   1050624     ['activation_90[0][0]']          \n",
            "                                                                                                  \n",
            " res5a_branch1 (Conv2D)         (None, 2, 2, 2048)   2099200     ['activation_88[0][0]']          \n",
            "                                                                                                  \n",
            " bn5a_branch2c (BatchNormalizat  (None, 2, 2, 2048)  8192        ['res5a_branch2c[0][0]']         \n",
            " ion)                                                                                             \n",
            "                                                                                                  \n",
            " bn5a_branch1 (BatchNormalizati  (None, 2, 2, 2048)  8192        ['res5a_branch1[0][0]']          \n",
            " on)                                                                                              \n",
            "                                                                                                  \n",
            " add_29 (Add)                   (None, 2, 2, 2048)   0           ['bn5a_branch2c[0][0]',          \n",
            "                                                                  'bn5a_branch1[0][0]']           \n",
            "                                                                                                  \n",
            " activation_91 (Activation)     (None, 2, 2, 2048)   0           ['add_29[0][0]']                 \n",
            "                                                                                                  \n",
            " res5b_branch2a (Conv2D)        (None, 2, 2, 512)    1049088     ['activation_91[0][0]']          \n",
            "                                                                                                  \n",
            " bn5b_branch2a (BatchNormalizat  (None, 2, 2, 512)   2048        ['res5b_branch2a[0][0]']         \n",
            " ion)                                                                                             \n",
            "                                                                                                  \n",
            " activation_92 (Activation)     (None, 2, 2, 512)    0           ['bn5b_branch2a[0][0]']          \n",
            "                                                                                                  \n",
            " res5b_branch2b (Conv2D)        (None, 2, 2, 512)    2359808     ['activation_92[0][0]']          \n",
            "                                                                                                  \n",
            " bn5b_branch2b (BatchNormalizat  (None, 2, 2, 512)   2048        ['res5b_branch2b[0][0]']         \n",
            " ion)                                                                                             \n",
            "                                                                                                  \n",
            " activation_93 (Activation)     (None, 2, 2, 512)    0           ['bn5b_branch2b[0][0]']          \n",
            "                                                                                                  \n",
            " res5b_branch2c (Conv2D)        (None, 2, 2, 2048)   1050624     ['activation_93[0][0]']          \n",
            "                                                                                                  \n",
            " bn5b_branch2c (BatchNormalizat  (None, 2, 2, 2048)  8192        ['res5b_branch2c[0][0]']         \n",
            " ion)                                                                                             \n",
            "                                                                                                  \n",
            " add_30 (Add)                   (None, 2, 2, 2048)   0           ['bn5b_branch2c[0][0]',          \n",
            "                                                                  'activation_91[0][0]']          \n",
            "                                                                                                  \n",
            " activation_94 (Activation)     (None, 2, 2, 2048)   0           ['add_30[0][0]']                 \n",
            "                                                                                                  \n",
            " res5c_branch2a (Conv2D)        (None, 2, 2, 512)    1049088     ['activation_94[0][0]']          \n",
            "                                                                                                  \n",
            " bn5c_branch2a (BatchNormalizat  (None, 2, 2, 512)   2048        ['res5c_branch2a[0][0]']         \n",
            " ion)                                                                                             \n",
            "                                                                                                  \n",
            " activation_95 (Activation)     (None, 2, 2, 512)    0           ['bn5c_branch2a[0][0]']          \n",
            "                                                                                                  \n",
            " res5c_branch2b (Conv2D)        (None, 2, 2, 512)    2359808     ['activation_95[0][0]']          \n",
            "                                                                                                  \n",
            " bn5c_branch2b (BatchNormalizat  (None, 2, 2, 512)   2048        ['res5c_branch2b[0][0]']         \n",
            " ion)                                                                                             \n",
            "                                                                                                  \n",
            " activation_96 (Activation)     (None, 2, 2, 512)    0           ['bn5c_branch2b[0][0]']          \n",
            "                                                                                                  \n",
            " res5c_branch2c (Conv2D)        (None, 2, 2, 2048)   1050624     ['activation_96[0][0]']          \n",
            "                                                                                                  \n",
            " bn5c_branch2c (BatchNormalizat  (None, 2, 2, 2048)  8192        ['res5c_branch2c[0][0]']         \n",
            " ion)                                                                                             \n",
            "                                                                                                  \n",
            " add_31 (Add)                   (None, 2, 2, 2048)   0           ['bn5c_branch2c[0][0]',          \n",
            "                                                                  'activation_94[0][0]']          \n",
            "                                                                                                  \n",
            " activation_97 (Activation)     (None, 2, 2, 2048)   0           ['add_31[0][0]']                 \n",
            "                                                                                                  \n",
            " avg_pool (AveragePooling2D)    (None, 1, 1, 2048)   0           ['activation_97[0][0]']          \n",
            "                                                                                                  \n",
            " flatten_1 (Flatten)            (None, 2048)         0           ['avg_pool[0][0]']               \n",
            "                                                                                                  \n",
            " fc4 (Dense)                    (None, 4)            8196        ['flatten_1[0][0]']              \n",
            "                                                                                                  \n",
            "==================================================================================================\n",
            "Total params: 23,595,908\n",
            "Trainable params: 23,542,788\n",
            "Non-trainable params: 53,120\n",
            "__________________________________________________________________________________________________\n"
          ]
        }
      ]
    },
    {
      "cell_type": "markdown",
      "source": [
        "***compile the model***"
      ],
      "metadata": {
        "id": "Qxbn1QmLlfDW"
      }
    },
    {
      "cell_type": "code",
      "source": [
        "model.compile(loss=\"categorical_crossentropy\", optimizer=\"adam\", metrics=[\"accuracy\"])"
      ],
      "metadata": {
        "id": "AI_brHUrls3X"
      },
      "execution_count": 21,
      "outputs": []
    },
    {
      "cell_type": "markdown",
      "source": [
        "***train the model***"
      ],
      "metadata": {
        "id": "L542rEUBmbLJ"
      }
    },
    {
      "cell_type": "code",
      "source": [
        "history = model.fit(X_train, y_train, epochs = 20, batch_size=16)"
      ],
      "metadata": {
        "colab": {
          "base_uri": "https://localhost:8080/"
        },
        "id": "gOveSzZamaM1",
        "outputId": "29ad5610-b94b-4591-c22d-c5e7daf114b7"
      },
      "execution_count": 22,
      "outputs": [
        {
          "output_type": "stream",
          "name": "stdout",
          "text": [
            "Epoch 1/20\n",
            "12/12 [==============================] - 43s 118ms/step - loss: 2.2946 - accuracy: 0.6222\n",
            "Epoch 2/20\n",
            "12/12 [==============================] - 1s 56ms/step - loss: 1.8489 - accuracy: 0.7333\n",
            "Epoch 3/20\n",
            "12/12 [==============================] - 1s 59ms/step - loss: 1.6040 - accuracy: 0.8222\n",
            "Epoch 4/20\n",
            "12/12 [==============================] - 1s 59ms/step - loss: 0.6015 - accuracy: 0.8500\n",
            "Epoch 5/20\n",
            "12/12 [==============================] - 1s 62ms/step - loss: 0.4596 - accuracy: 0.9167\n",
            "Epoch 6/20\n",
            "12/12 [==============================] - 1s 59ms/step - loss: 0.2657 - accuracy: 0.9000\n",
            "Epoch 7/20\n",
            "12/12 [==============================] - 1s 43ms/step - loss: 0.3187 - accuracy: 0.9500\n",
            "Epoch 8/20\n",
            "12/12 [==============================] - 1s 43ms/step - loss: 0.2391 - accuracy: 0.9333\n",
            "Epoch 9/20\n",
            "12/12 [==============================] - 1s 42ms/step - loss: 0.4379 - accuracy: 0.9500\n",
            "Epoch 10/20\n",
            "12/12 [==============================] - 1s 43ms/step - loss: 0.3426 - accuracy: 0.9056\n",
            "Epoch 11/20\n",
            "12/12 [==============================] - 1s 45ms/step - loss: 0.1981 - accuracy: 0.9500\n",
            "Epoch 12/20\n",
            "12/12 [==============================] - 1s 46ms/step - loss: 0.3813 - accuracy: 0.9167\n",
            "Epoch 13/20\n",
            "12/12 [==============================] - 1s 44ms/step - loss: 0.6543 - accuracy: 0.8778\n",
            "Epoch 14/20\n",
            "12/12 [==============================] - 1s 45ms/step - loss: 0.4545 - accuracy: 0.9111\n",
            "Epoch 15/20\n",
            "12/12 [==============================] - 1s 47ms/step - loss: 0.3825 - accuracy: 0.9111\n",
            "Epoch 16/20\n",
            "12/12 [==============================] - 1s 44ms/step - loss: 0.1827 - accuracy: 0.9611\n",
            "Epoch 17/20\n",
            "12/12 [==============================] - 1s 43ms/step - loss: 0.1145 - accuracy: 0.9778\n",
            "Epoch 18/20\n",
            "12/12 [==============================] - 1s 45ms/step - loss: 0.0726 - accuracy: 0.9833\n",
            "Epoch 19/20\n",
            "12/12 [==============================] - 1s 43ms/step - loss: 0.0681 - accuracy: 0.9833\n",
            "Epoch 20/20\n",
            "12/12 [==============================] - 1s 45ms/step - loss: 0.0410 - accuracy: 0.9833\n"
          ]
        }
      ]
    },
    {
      "cell_type": "markdown",
      "source": [
        "## EVALUATE MODEL PERFORMANCE"
      ],
      "metadata": {
        "id": "ztO4-Oacm-xa"
      }
    },
    {
      "cell_type": "markdown",
      "source": [
        "***use test data for evaluation***"
      ],
      "metadata": {
        "id": "C5k8DtUdnC-Z"
      }
    },
    {
      "cell_type": "code",
      "source": [
        "model.evaluate(X_test, y_test)"
      ],
      "metadata": {
        "colab": {
          "base_uri": "https://localhost:8080/"
        },
        "id": "YCy1TPuwmjhu",
        "outputId": "3841de1c-78ed-4452-c7b7-d40ab962f4ac"
      },
      "execution_count": 23,
      "outputs": [
        {
          "output_type": "stream",
          "name": "stdout",
          "text": [
            "2/2 [==============================] - 2s 343ms/step - loss: 1.7283 - accuracy: 0.0435\n"
          ]
        },
        {
          "output_type": "execute_result",
          "data": {
            "text/plain": [
              "[1.7283012866973877, 0.043478261679410934]"
            ]
          },
          "metadata": {},
          "execution_count": 23
        }
      ]
    },
    {
      "cell_type": "code",
      "source": [],
      "metadata": {
        "id": "1vZjRIARpHuD"
      },
      "execution_count": 23,
      "outputs": []
    }
  ],
  "metadata": {
    "colab": {
      "provenance": []
    },
    "gpuClass": "standard",
    "kernelspec": {
      "display_name": "Python 3",
      "name": "python3"
    },
    "language_info": {
      "name": "python"
    },
    "accelerator": "GPU"
  },
  "nbformat": 4,
  "nbformat_minor": 0
}