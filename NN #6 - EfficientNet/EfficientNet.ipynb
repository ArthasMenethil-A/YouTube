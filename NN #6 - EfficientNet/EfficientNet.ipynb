{
  "nbformat": 4,
  "nbformat_minor": 0,
  "metadata": {
    "colab": {
      "provenance": []
    },
    "kernelspec": {
      "name": "python3",
      "display_name": "Python 3"
    },
    "language_info": {
      "name": "python"
    },
    "accelerator": "GPU",
    "gpuClass": "standard"
  },
  "cells": [
    {
      "cell_type": "markdown",
      "source": [
        "# MOBILENET-V1 AND MOBILENET-V2\n",
        "\n",
        "MobileNet is the should-learn before moving onto EfficientNet. so  here we implement and discuss it before moving on to EfficientNet"
      ],
      "metadata": {
        "id": "55qxYOWzckiA"
      }
    },
    {
      "cell_type": "markdown",
      "source": [
        "## IMPORTS\n"
      ],
      "metadata": {
        "id": "CtBxy1ks2vQ_"
      }
    },
    {
      "cell_type": "markdown",
      "source": [
        "***mount drive***"
      ],
      "metadata": {
        "id": "ZTqP45Nm4klB"
      }
    },
    {
      "cell_type": "code",
      "source": [
        "from google.colab import drive \n",
        "drive.mount(\"/content/drive/\")"
      ],
      "metadata": {
        "colab": {
          "base_uri": "https://localhost:8080/"
        },
        "id": "a1drcGsA4mTA",
        "outputId": "3d2c2293-21a4-4a4c-a295-30a87b21bcdb"
      },
      "execution_count": 1,
      "outputs": [
        {
          "output_type": "stream",
          "name": "stdout",
          "text": [
            "Mounted at /content/drive/\n"
          ]
        }
      ]
    },
    {
      "cell_type": "markdown",
      "source": [
        "***general imports***"
      ],
      "metadata": {
        "id": "cJfh6DDu4Cl0"
      }
    },
    {
      "cell_type": "code",
      "source": [
        "import os \n",
        "import cv2\n",
        "import numpy as np \n",
        "import pandas as pd \n",
        "import matplotlib.pyplot as plt\n",
        "from matplotlib.pyplot import imread\n",
        "from matplotlib.pyplot import imshow"
      ],
      "metadata": {
        "id": "aymoTL4I4FNs"
      },
      "execution_count": 2,
      "outputs": []
    },
    {
      "cell_type": "markdown",
      "source": [
        "***tensorflow imports***"
      ],
      "metadata": {
        "id": "yCaPjYCh2_-E"
      }
    },
    {
      "cell_type": "code",
      "execution_count": 3,
      "metadata": {
        "id": "K5jSFfMpMNVT"
      },
      "outputs": [],
      "source": [
        "import tensorflow as tf \n",
        "from tensorflow.keras import layers\n",
        "from tensorflow.keras.applications import EfficientNetB0\n",
        "from tensorflow.keras.preprocessing import image\n",
        "from tensorflow.keras.applications.imagenet_utils import decode_predictions, \\\n",
        "                                                         preprocess_input"
      ]
    },
    {
      "cell_type": "markdown",
      "source": [
        "***sklearn imports***"
      ],
      "metadata": {
        "id": "GHGwtqv-4Bd8"
      }
    },
    {
      "cell_type": "code",
      "source": [
        "from sklearn.preprocessing import LabelEncoder , OneHotEncoder\n",
        "from sklearn.compose import ColumnTransformer\n",
        "from sklearn.utils import shuffle\n",
        "from sklearn.model_selection import train_test_split"
      ],
      "metadata": {
        "id": "vxbex73s3RpF"
      },
      "execution_count": 4,
      "outputs": []
    },
    {
      "cell_type": "markdown",
      "source": [
        "# LOAD DATA"
      ],
      "metadata": {
        "id": "1ZXnAgzY5FSq"
      }
    },
    {
      "cell_type": "markdown",
      "source": [
        "***load classes***"
      ],
      "metadata": {
        "id": "Au1LCfiJ-ejT"
      }
    },
    {
      "cell_type": "code",
      "source": [
        "# path of dataset \n",
        "dataset_path = \"/content/drive/MyDrive/Youtube/3 - EfficientNet/data/\"\n",
        "\n",
        "# classes of our datas\n",
        "classes = os.listdir(dataset_path)\n",
        "\n",
        "print(classes)  "
      ],
      "metadata": {
        "colab": {
          "base_uri": "https://localhost:8080/"
        },
        "id": "IpclRC1h5WmL",
        "outputId": "c10472c0-5013-4f1f-d6ba-ac58b79ad90c"
      },
      "execution_count": 5,
      "outputs": [
        {
          "output_type": "stream",
          "name": "stdout",
          "text": [
            "['Carcinoma', 'Nevus', 'Melanoma']\n"
          ]
        }
      ]
    },
    {
      "cell_type": "markdown",
      "source": [
        "***loop over all data***"
      ],
      "metadata": {
        "id": "3BSagSSm5G7Y"
      }
    },
    {
      "cell_type": "code",
      "source": [
        "im_size = (224, 224)\n",
        "images = []\n",
        "labels = []\n",
        "\n",
        "for class_ in classes:\n",
        "  path = dataset_path + str(class_)\n",
        "  filenames = [i for i in os.listdir(path)]\n",
        "\n",
        "  for filename in filenames:\n",
        "    img = cv2.imread(path + \"/\" + filename)\n",
        "    img = cv2.resize(img, im_size)\n",
        "    images.append(img)\n",
        "    labels.append(class_)"
      ],
      "metadata": {
        "id": "a-oEbzRc4upn"
      },
      "execution_count": 6,
      "outputs": []
    },
    {
      "cell_type": "markdown",
      "source": [
        "## PRE-PROCESS DATA"
      ],
      "metadata": {
        "id": "xPxPhW9H-Q9b"
      }
    },
    {
      "cell_type": "markdown",
      "source": [
        "***normalize***"
      ],
      "metadata": {
        "id": "cOCG4Clk-K27"
      }
    },
    {
      "cell_type": "code",
      "source": [
        "# converting to numpy array\n",
        "images = np.array(images)\n",
        "\n",
        "# normalizing\n",
        "images = images.astype(\"float32\")/255.0\n",
        "\n",
        "images.shape"
      ],
      "metadata": {
        "colab": {
          "base_uri": "https://localhost:8080/"
        },
        "id": "vQebBqtA6Ekc",
        "outputId": "f84bd54a-2d26-4df0-911d-decb4fb0a77f"
      },
      "execution_count": 7,
      "outputs": [
        {
          "output_type": "execute_result",
          "data": {
            "text/plain": [
              "(100, 224, 224, 3)"
            ]
          },
          "metadata": {},
          "execution_count": 7
        }
      ]
    },
    {
      "cell_type": "markdown",
      "source": [
        "***one-hot encoder***"
      ],
      "metadata": {
        "id": "R4KH3d0GHlXf"
      }
    },
    {
      "cell_type": "code",
      "source": [
        "# converting to numpy array\n",
        "labels = np.array(labels)\n",
        "\n",
        "# converting labels from string to numbers \n",
        "labelencoder = LabelEncoder()\n",
        "labels = labelencoder.fit_transform(labels)\n",
        "\n",
        "# adding another dimension\n",
        "labels = labels.reshape(-1,1)\n",
        "\n",
        "# one-hot encoder\n",
        "ct = ColumnTransformer([('One_h', OneHotEncoder(), [0])], remainder='passthrough')\n",
        "labels = ct.fit_transform(labels)\n",
        "\n",
        "labels.shape"
      ],
      "metadata": {
        "colab": {
          "base_uri": "https://localhost:8080/"
        },
        "id": "Fr8HTeDR-bXB",
        "outputId": "53b5acc2-33d2-4472-8942-1fc4797f4913"
      },
      "execution_count": 8,
      "outputs": [
        {
          "output_type": "execute_result",
          "data": {
            "text/plain": [
              "(100, 3)"
            ]
          },
          "metadata": {},
          "execution_count": 8
        }
      ]
    },
    {
      "cell_type": "markdown",
      "source": [
        "***shuffle and train/test split***"
      ],
      "metadata": {
        "id": "N8WKejExIjV0"
      }
    },
    {
      "cell_type": "code",
      "source": [
        "# shuffle data\n",
        "images, labels = shuffle(images, labels, random_state=69)\n",
        "\n",
        "# train/test split\n",
        "X_train, X_test, y_train, y_test = train_test_split(images, labels, test_size=0.1, random_state=420)\n",
        "\n",
        "print(X_train.shape)\n",
        "print(y_train.shape)"
      ],
      "metadata": {
        "colab": {
          "base_uri": "https://localhost:8080/"
        },
        "id": "-wCW4OZ6Aw5C",
        "outputId": "04c44b81-d129-495e-fe8f-77bf40c45b1b"
      },
      "execution_count": 9,
      "outputs": [
        {
          "output_type": "stream",
          "name": "stdout",
          "text": [
            "(90, 224, 224, 3)\n",
            "(90, 3)\n"
          ]
        }
      ]
    },
    {
      "cell_type": "markdown",
      "source": [
        "## BUILD MODEL ARCHITECTURE"
      ],
      "metadata": {
        "id": "xQB5TDMxJI_b"
      }
    },
    {
      "cell_type": "markdown",
      "source": [
        "***construct the model structure***"
      ],
      "metadata": {
        "id": "Yxxwao8PJmrg"
      }
    },
    {
      "cell_type": "code",
      "source": [
        "NUM_CLASSES = 3\n",
        "IMAGE_SIZE = (224, 224, 3)\n",
        "\n",
        "inputs = layers.Input(shape=IMAGE_SIZE)\n",
        "outputs = EfficientNetB0(include_top=True, weights=None, classes=NUM_CLASSES)(inputs)"
      ],
      "metadata": {
        "id": "w5IM3ni1I9N1"
      },
      "execution_count": 10,
      "outputs": []
    },
    {
      "cell_type": "markdown",
      "source": [
        "***make an instance of the model***"
      ],
      "metadata": {
        "id": "bHS1yipMJtEf"
      }
    },
    {
      "cell_type": "code",
      "source": [
        "model = tf.keras.Model(inputs, outputs)\n",
        "\n",
        "model.summary()"
      ],
      "metadata": {
        "colab": {
          "base_uri": "https://localhost:8080/"
        },
        "id": "OZ12tF44JvwK",
        "outputId": "869eb38f-27e2-4922-efc0-f2b322a19f02"
      },
      "execution_count": 11,
      "outputs": [
        {
          "output_type": "stream",
          "name": "stdout",
          "text": [
            "Model: \"model\"\n",
            "_________________________________________________________________\n",
            " Layer (type)                Output Shape              Param #   \n",
            "=================================================================\n",
            " input_1 (InputLayer)        [(None, 224, 224, 3)]     0         \n",
            "                                                                 \n",
            " efficientnetb0 (Functional)  (None, 3)                4053414   \n",
            "                                                                 \n",
            "=================================================================\n",
            "Total params: 4,053,414\n",
            "Trainable params: 4,011,391\n",
            "Non-trainable params: 42,023\n",
            "_________________________________________________________________\n"
          ]
        }
      ]
    },
    {
      "cell_type": "markdown",
      "source": [
        "## COMPILE AND TRAIN MODEL"
      ],
      "metadata": {
        "id": "zji90empKGNI"
      }
    },
    {
      "cell_type": "markdown",
      "source": [
        "***compile model***"
      ],
      "metadata": {
        "id": "7pHREAauKNeR"
      }
    },
    {
      "cell_type": "code",
      "source": [
        "model.compile(loss=\"categorical_crossentropy\", optimizer=\"nadam\", metrics=[\"accuracy\"])"
      ],
      "metadata": {
        "id": "SuRc9HbLJ99R"
      },
      "execution_count": 12,
      "outputs": []
    },
    {
      "cell_type": "markdown",
      "source": [
        "***train model***"
      ],
      "metadata": {
        "id": "5f8pl9_ZKQbC"
      }
    },
    {
      "cell_type": "code",
      "source": [
        "history = model.fit(X_train, y_train, epochs=30, verbose=2)"
      ],
      "metadata": {
        "colab": {
          "base_uri": "https://localhost:8080/"
        },
        "id": "5UbIYU-3KQFJ",
        "outputId": "aa9f0cf9-d73a-4777-9ba8-3881345e3f0d"
      },
      "execution_count": 13,
      "outputs": [
        {
          "output_type": "stream",
          "name": "stdout",
          "text": [
            "Epoch 1/30\n",
            "3/3 - 72s - loss: 6.5420 - accuracy: 0.2667 - 72s/epoch - 24s/step\n",
            "Epoch 2/30\n",
            "3/3 - 1s - loss: 3.5847 - accuracy: 0.3111 - 782ms/epoch - 261ms/step\n",
            "Epoch 3/30\n",
            "3/3 - 1s - loss: 1.8169 - accuracy: 0.3778 - 778ms/epoch - 259ms/step\n",
            "Epoch 4/30\n",
            "3/3 - 1s - loss: 2.7285 - accuracy: 0.4444 - 787ms/epoch - 262ms/step\n",
            "Epoch 5/30\n",
            "3/3 - 1s - loss: 2.3028 - accuracy: 0.5111 - 785ms/epoch - 262ms/step\n",
            "Epoch 6/30\n",
            "3/3 - 1s - loss: 2.4326 - accuracy: 0.6444 - 787ms/epoch - 262ms/step\n",
            "Epoch 7/30\n",
            "3/3 - 1s - loss: 2.1602 - accuracy: 0.6333 - 784ms/epoch - 261ms/step\n",
            "Epoch 8/30\n",
            "3/3 - 1s - loss: 2.1185 - accuracy: 0.6444 - 788ms/epoch - 263ms/step\n",
            "Epoch 9/30\n",
            "3/3 - 1s - loss: 1.4751 - accuracy: 0.5222 - 792ms/epoch - 264ms/step\n",
            "Epoch 10/30\n",
            "3/3 - 1s - loss: 2.5296 - accuracy: 0.7111 - 790ms/epoch - 263ms/step\n",
            "Epoch 11/30\n",
            "3/3 - 1s - loss: 1.1848 - accuracy: 0.8000 - 791ms/epoch - 264ms/step\n",
            "Epoch 12/30\n",
            "3/3 - 1s - loss: 1.6104 - accuracy: 0.7889 - 804ms/epoch - 268ms/step\n",
            "Epoch 13/30\n",
            "3/3 - 1s - loss: 1.8025 - accuracy: 0.6889 - 807ms/epoch - 269ms/step\n",
            "Epoch 14/30\n",
            "3/3 - 1s - loss: 0.9084 - accuracy: 0.7222 - 799ms/epoch - 266ms/step\n",
            "Epoch 15/30\n",
            "3/3 - 1s - loss: 0.6168 - accuracy: 0.7333 - 787ms/epoch - 262ms/step\n",
            "Epoch 16/30\n",
            "3/3 - 1s - loss: 1.4901 - accuracy: 0.8222 - 797ms/epoch - 266ms/step\n",
            "Epoch 17/30\n",
            "3/3 - 1s - loss: 0.8877 - accuracy: 0.7778 - 797ms/epoch - 266ms/step\n",
            "Epoch 18/30\n",
            "3/3 - 1s - loss: 2.5928 - accuracy: 0.7667 - 797ms/epoch - 266ms/step\n",
            "Epoch 19/30\n",
            "3/3 - 1s - loss: 1.2934 - accuracy: 0.8333 - 797ms/epoch - 266ms/step\n",
            "Epoch 20/30\n",
            "3/3 - 1s - loss: 0.7528 - accuracy: 0.8222 - 792ms/epoch - 264ms/step\n",
            "Epoch 21/30\n",
            "3/3 - 1s - loss: 0.4705 - accuracy: 0.8667 - 793ms/epoch - 264ms/step\n",
            "Epoch 22/30\n",
            "3/3 - 1s - loss: 0.6749 - accuracy: 0.8667 - 798ms/epoch - 266ms/step\n",
            "Epoch 23/30\n",
            "3/3 - 1s - loss: 0.4798 - accuracy: 0.8333 - 795ms/epoch - 265ms/step\n",
            "Epoch 24/30\n",
            "3/3 - 1s - loss: 0.5952 - accuracy: 0.8111 - 797ms/epoch - 266ms/step\n",
            "Epoch 25/30\n",
            "3/3 - 1s - loss: 0.7330 - accuracy: 0.8778 - 795ms/epoch - 265ms/step\n",
            "Epoch 26/30\n",
            "3/3 - 1s - loss: 0.1386 - accuracy: 0.9778 - 800ms/epoch - 267ms/step\n",
            "Epoch 27/30\n",
            "3/3 - 1s - loss: 1.9957 - accuracy: 0.8444 - 801ms/epoch - 267ms/step\n",
            "Epoch 28/30\n",
            "3/3 - 1s - loss: 1.3564 - accuracy: 0.8778 - 822ms/epoch - 274ms/step\n",
            "Epoch 29/30\n",
            "3/3 - 1s - loss: 0.5490 - accuracy: 0.8222 - 808ms/epoch - 269ms/step\n",
            "Epoch 30/30\n",
            "3/3 - 1s - loss: 2.5883 - accuracy: 0.8222 - 798ms/epoch - 266ms/step\n"
          ]
        }
      ]
    },
    {
      "cell_type": "markdown",
      "source": [
        "## EVALUATE MODEL PERFORMANCE"
      ],
      "metadata": {
        "id": "Am0N8GikKa_S"
      }
    },
    {
      "cell_type": "markdown",
      "source": [
        "***plot history***"
      ],
      "metadata": {
        "id": "5Man4nJ9KdbT"
      }
    },
    {
      "cell_type": "code",
      "source": [
        "def plot_hist(hist):\n",
        "    plt.plot(hist.history[\"accuracy\"])\n",
        "    \n",
        "    plt.title(\"model accuracy\")\n",
        "    plt.ylabel(\"accuracy\")\n",
        "    plt.xlabel(\"epoch\")\n",
        "    plt.legend([\"train\", \"validation\"], loc=\"upper left\")\n",
        "    plt.show()\n",
        "\n",
        "plot_hist(history)"
      ],
      "metadata": {
        "colab": {
          "base_uri": "https://localhost:8080/",
          "height": 295
        },
        "id": "hxX92CqnKWrP",
        "outputId": "e898dfaa-5b2f-42c6-a5d1-422d437bbbb5"
      },
      "execution_count": 14,
      "outputs": [
        {
          "output_type": "display_data",
          "data": {
            "text/plain": [
              "<Figure size 432x288 with 1 Axes>"
            ],
            "image/png": "[encoded data removed]"
          },
          "metadata": {
            "needs_background": "light"
          }
        }
      ]
    },
    {
      "cell_type": "markdown",
      "source": [
        "***evaluation of the model***"
      ],
      "metadata": {
        "id": "q2LlZrS1KkmC"
      }
    },
    {
      "cell_type": "code",
      "source": [
        "model.evaluate(X_test, y_test)"
      ],
      "metadata": {
        "colab": {
          "base_uri": "https://localhost:8080/"
        },
        "id": "DuqXHttCKirh",
        "outputId": "107b98c9-32f6-4ef8-8a2f-8eb042c80ebe"
      },
      "execution_count": 15,
      "outputs": [
        {
          "output_type": "stream",
          "name": "stdout",
          "text": [
            "1/1 [==============================] - 2s 2s/step - loss: 1.4109 - accuracy: 0.4000\n"
          ]
        },
        {
          "output_type": "execute_result",
          "data": {
            "text/plain": [
              "[1.410923957824707, 0.4000000059604645]"
            ]
          },
          "metadata": {},
          "execution_count": 15
        }
      ]
    }
  ]
}