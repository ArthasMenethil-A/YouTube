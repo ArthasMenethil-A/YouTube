{
  "nbformat": 4,
  "nbformat_minor": 0,
  "metadata": {
    "colab": {
      "provenance": [],
      "toc_visible": true
    },
    "kernelspec": {
      "name": "python3",
      "display_name": "Python 3"
    },
    "language_info": {
      "name": "python"
    },
    "accelerator": "GPU",
    "gpuClass": "standard"
  },
  "cells": [
    {
      "cell_type": "markdown",
      "source": [
        "# MNIST DATASET\n",
        "in this notebook we wanna create a simple model and train it on mnist dataste"
      ],
      "metadata": {
        "id": "KW2-XFseJM1R"
      }
    },
    {
      "cell_type": "markdown",
      "source": [
        "### IMPORTS"
      ],
      "metadata": {
        "id": "1ZDPeNElJhhW"
      }
    },
    {
      "cell_type": "markdown",
      "source": [
        "***general imports***"
      ],
      "metadata": {
        "id": "N2sDrX9uJwpO"
      }
    },
    {
      "cell_type": "code",
      "source": [
        "import numpy as np \n",
        "import matplotlib.pyplot as plt"
      ],
      "metadata": {
        "id": "Zi74uq1KJyeO"
      },
      "execution_count": 1,
      "outputs": []
    },
    {
      "cell_type": "markdown",
      "source": [
        "***imports from tensorflow***"
      ],
      "metadata": {
        "id": "L36XOuPKJks5"
      }
    },
    {
      "cell_type": "code",
      "execution_count": 2,
      "metadata": {
        "id": "20wNXuMtI_e9"
      },
      "outputs": [],
      "source": [
        "import tensorflow \n",
        "from tensorflow.keras.datasets import mnist\n",
        "from tensorflow.keras.utils import to_categorical\n",
        "from tensorflow.keras.models import Sequential\n",
        "from tensorflow.keras.layers import Dense\n",
        "from tensorflow.keras.optimizers import SGD"
      ]
    },
    {
      "cell_type": "markdown",
      "source": [
        "### LOAD DATA"
      ],
      "metadata": {
        "id": "DbdGaf_XKCKV"
      }
    },
    {
      "cell_type": "markdown",
      "source": [
        "***loading into train and validation sets***"
      ],
      "metadata": {
        "id": "mSFbPEWLKS7d"
      }
    },
    {
      "cell_type": "code",
      "source": [
        "(X_train, y_train), (X_valid, y_valid) = mnist.load_data()"
      ],
      "metadata": {
        "colab": {
          "base_uri": "https://localhost:8080/"
        },
        "id": "IofM7MBqKEeF",
        "outputId": "23d03750-6277-4d62-e25e-6580b46bb61f"
      },
      "execution_count": 3,
      "outputs": [
        {
          "output_type": "stream",
          "name": "stdout",
          "text": [
            "Downloading data from https://storage.googleapis.com/tensorflow/tf-keras-datasets/mnist.npz\n",
            "11490434/11490434 [==============================] - 2s 0us/step\n"
          ]
        }
      ]
    },
    {
      "cell_type": "markdown",
      "source": [
        "***checking the number/dimension of data***"
      ],
      "metadata": {
        "id": "L8psZ_xSKWEE"
      }
    },
    {
      "cell_type": "code",
      "source": [
        "print(\"Dimensions of X_train are:\", X_train.shape)\n",
        "print(\"Dimensions of y_train are:\", y_train.shape)\n",
        "print(\"Dimensions of X_valid are:\", X_valid.shape)\n",
        "print(\"Dimensions of y_valid are:\", y_valid.shape)"
      ],
      "metadata": {
        "colab": {
          "base_uri": "https://localhost:8080/"
        },
        "id": "YTVVneYaKNn-",
        "outputId": "76600054-9708-406f-b0f2-99b8e67e1c0a"
      },
      "execution_count": 4,
      "outputs": [
        {
          "output_type": "stream",
          "name": "stdout",
          "text": [
            "Dimensions of X_train are: (60000, 28, 28)\n",
            "Dimensions of y_train are: (60000,)\n",
            "Dimensions of X_valid are: (10000, 28, 28)\n",
            "Dimensions of y_valid are: (10000,)\n"
          ]
        }
      ]
    },
    {
      "cell_type": "markdown",
      "source": [
        "***showing samples***"
      ],
      "metadata": {
        "id": "P7DYWAnfLC0W"
      }
    },
    {
      "cell_type": "code",
      "source": [
        "plt.figure(figsize=(2, 4))\n",
        "for k in range(4):\n",
        "  plt.subplot(1, 4, k+1)\n",
        "  plt.imshow(X_train[k], cmap=\"Greys\")\n",
        "  plt.axis(\"off\")\n",
        "\n",
        "plt.tight_layout()\n",
        "plt.show()\n",
        "\n",
        "\n",
        "print(y_train[0:4])"
      ],
      "metadata": {
        "colab": {
          "base_uri": "https://localhost:8080/",
          "height": 70
        },
        "id": "_PadFL-TKmXE",
        "outputId": "cf654535-1244-4ec8-b1c9-cc1cb2f5973a"
      },
      "execution_count": 5,
      "outputs": [
        {
          "output_type": "display_data",
          "data": {
            "text/plain": [
              "<Figure size 144x288 with 4 Axes>"
            ],
            "image/png": "[encoded data removed]"
          },
          "metadata": {
            "needs_background": "light"
          }
        },
        {
          "output_type": "stream",
          "name": "stdout",
          "text": [
            "[5 0 4 1]\n"
          ]
        }
      ]
    },
    {
      "cell_type": "markdown",
      "source": [
        "### PRE-PROCESS DATA"
      ],
      "metadata": {
        "id": "2JmjxpECX3BE"
      }
    },
    {
      "cell_type": "markdown",
      "source": [
        "***re-shape***"
      ],
      "metadata": {
        "id": "w_1wFBBYX5r8"
      }
    },
    {
      "cell_type": "code",
      "source": [
        "X_train = X_train.reshape(-1, 784).astype(\"float32\")\n",
        "X_valid = X_valid.reshape(-1, 784).astype(\"float32\")\n",
        "\n",
        "X_train.shape"
      ],
      "metadata": {
        "colab": {
          "base_uri": "https://localhost:8080/"
        },
        "id": "bK8Vdfg5Lc71",
        "outputId": "e8c4801c-d82c-4376-e52c-17b6a618aa14"
      },
      "execution_count": 6,
      "outputs": [
        {
          "output_type": "execute_result",
          "data": {
            "text/plain": [
              "(60000, 784)"
            ]
          },
          "metadata": {},
          "execution_count": 6
        }
      ]
    },
    {
      "cell_type": "markdown",
      "source": [
        "***re-scale***"
      ],
      "metadata": {
        "id": "azb_j-vwYODV"
      }
    },
    {
      "cell_type": "code",
      "source": [
        "X_train /= 255\n",
        "X_valid /= 255"
      ],
      "metadata": {
        "id": "AUvXVrSWYQdx"
      },
      "execution_count": 7,
      "outputs": []
    },
    {
      "cell_type": "markdown",
      "source": [
        "***onehot encoding***"
      ],
      "metadata": {
        "id": "LB7Qw2tRenkU"
      }
    },
    {
      "cell_type": "code",
      "source": [
        "n_classes = 10\n",
        "y_train = to_categorical(y_train, n_classes)\n",
        "y_valid = to_categorical(y_valid, n_classes)"
      ],
      "metadata": {
        "id": "vNeudhWvenVM"
      },
      "execution_count": 8,
      "outputs": []
    },
    {
      "cell_type": "markdown",
      "source": [
        "### NEURAL NETWORK"
      ],
      "metadata": {
        "id": "4WmdmxI4ZCed"
      }
    },
    {
      "cell_type": "markdown",
      "source": [
        "***design neural network architecture***"
      ],
      "metadata": {
        "id": "M8HBhhAIZGbN"
      }
    },
    {
      "cell_type": "code",
      "source": [
        "model = Sequential()\n",
        "model.add(Dense(64, activation=\"sigmoid\", input_shape=(784,)))\n",
        "model.add(Dense(10, activation=\"softmax\"))\n",
        "\n",
        "model.summary()"
      ],
      "metadata": {
        "colab": {
          "base_uri": "https://localhost:8080/"
        },
        "id": "MNdKbT-RYUdJ",
        "outputId": "d0df914a-9a10-4408-e1bb-3c83e966be15"
      },
      "execution_count": 9,
      "outputs": [
        {
          "output_type": "stream",
          "name": "stdout",
          "text": [
            "Model: \"sequential\"\n",
            "_________________________________________________________________\n",
            " Layer (type)                Output Shape              Param #   \n",
            "=================================================================\n",
            " dense (Dense)               (None, 64)                50240     \n",
            "                                                                 \n",
            " dense_1 (Dense)             (None, 10)                650       \n",
            "                                                                 \n",
            "=================================================================\n",
            "Total params: 50,890\n",
            "Trainable params: 50,890\n",
            "Non-trainable params: 0\n",
            "_________________________________________________________________\n"
          ]
        }
      ]
    },
    {
      "cell_type": "markdown",
      "source": [
        "***model config***"
      ],
      "metadata": {
        "id": "JUxjE8hoZi_J"
      }
    },
    {
      "cell_type": "code",
      "source": [
        "model.compile(loss=\"mean_squared_error\", optimizer=SGD(learning_rate=0.03), metrics=['accuracy'])"
      ],
      "metadata": {
        "id": "eZTTplq-ZMjC"
      },
      "execution_count": 10,
      "outputs": []
    },
    {
      "cell_type": "markdown",
      "source": [
        "***train model***"
      ],
      "metadata": {
        "id": "U1VU7B_aZxZs"
      }
    },
    {
      "cell_type": "code",
      "source": [
        "model.fit(X_train, y_train, batch_size=128, epochs=50, verbose=1, validation_data=(X_valid, y_valid))"
      ],
      "metadata": {
        "colab": {
          "base_uri": "https://localhost:8080/"
        },
        "id": "yHW3pURLZv7W",
        "outputId": "b1ccfbff-a800-415f-e9e5-571cea31c981"
      },
      "execution_count": 11,
      "outputs": [
        {
          "output_type": "stream",
          "name": "stdout",
          "text": [
            "Epoch 1/50\n",
            "469/469 [==============================] - 6s 6ms/step - loss: 0.0922 - accuracy: 0.1036 - val_loss: 0.0908 - val_accuracy: 0.1240\n",
            "Epoch 2/50\n",
            "469/469 [==============================] - 3s 5ms/step - loss: 0.0901 - accuracy: 0.1617 - val_loss: 0.0894 - val_accuracy: 0.2353\n",
            "Epoch 3/50\n",
            "469/469 [==============================] - 2s 5ms/step - loss: 0.0889 - accuracy: 0.2701 - val_loss: 0.0883 - val_accuracy: 0.3032\n",
            "Epoch 4/50\n",
            "469/469 [==============================] - 3s 6ms/step - loss: 0.0878 - accuracy: 0.3079 - val_loss: 0.0872 - val_accuracy: 0.3221\n",
            "Epoch 5/50\n",
            "469/469 [==============================] - 2s 5ms/step - loss: 0.0867 - accuracy: 0.3294 - val_loss: 0.0861 - val_accuracy: 0.3343\n",
            "Epoch 6/50\n",
            "469/469 [==============================] - 1s 3ms/step - loss: 0.0856 - accuracy: 0.3421 - val_loss: 0.0850 - val_accuracy: 0.3513\n",
            "Epoch 7/50\n",
            "469/469 [==============================] - 1s 3ms/step - loss: 0.0845 - accuracy: 0.3605 - val_loss: 0.0839 - val_accuracy: 0.3721\n",
            "Epoch 8/50\n",
            "469/469 [==============================] - 1s 3ms/step - loss: 0.0834 - accuracy: 0.3774 - val_loss: 0.0827 - val_accuracy: 0.3934\n",
            "Epoch 9/50\n",
            "469/469 [==============================] - 1s 3ms/step - loss: 0.0822 - accuracy: 0.3947 - val_loss: 0.0814 - val_accuracy: 0.4148\n",
            "Epoch 10/50\n",
            "469/469 [==============================] - 1s 3ms/step - loss: 0.0809 - accuracy: 0.4161 - val_loss: 0.0802 - val_accuracy: 0.4372\n",
            "Epoch 11/50\n",
            "469/469 [==============================] - 1s 3ms/step - loss: 0.0797 - accuracy: 0.4435 - val_loss: 0.0789 - val_accuracy: 0.4556\n",
            "Epoch 12/50\n",
            "469/469 [==============================] - 1s 3ms/step - loss: 0.0784 - accuracy: 0.4651 - val_loss: 0.0775 - val_accuracy: 0.4808\n",
            "Epoch 13/50\n",
            "469/469 [==============================] - 1s 3ms/step - loss: 0.0771 - accuracy: 0.4894 - val_loss: 0.0762 - val_accuracy: 0.5017\n",
            "Epoch 14/50\n",
            "469/469 [==============================] - 2s 3ms/step - loss: 0.0757 - accuracy: 0.5117 - val_loss: 0.0748 - val_accuracy: 0.5249\n",
            "Epoch 15/50\n",
            "469/469 [==============================] - 1s 3ms/step - loss: 0.0743 - accuracy: 0.5326 - val_loss: 0.0733 - val_accuracy: 0.5449\n",
            "Epoch 16/50\n",
            "469/469 [==============================] - 1s 3ms/step - loss: 0.0729 - accuracy: 0.5527 - val_loss: 0.0719 - val_accuracy: 0.5612\n",
            "Epoch 17/50\n",
            "469/469 [==============================] - 1s 3ms/step - loss: 0.0715 - accuracy: 0.5708 - val_loss: 0.0704 - val_accuracy: 0.5769\n",
            "Epoch 18/50\n",
            "469/469 [==============================] - 2s 3ms/step - loss: 0.0700 - accuracy: 0.5831 - val_loss: 0.0689 - val_accuracy: 0.5938\n",
            "Epoch 19/50\n",
            "469/469 [==============================] - 1s 3ms/step - loss: 0.0686 - accuracy: 0.5962 - val_loss: 0.0674 - val_accuracy: 0.6052\n",
            "Epoch 20/50\n",
            "469/469 [==============================] - 1s 3ms/step - loss: 0.0671 - accuracy: 0.6081 - val_loss: 0.0660 - val_accuracy: 0.6163\n",
            "Epoch 21/50\n",
            "469/469 [==============================] - 1s 3ms/step - loss: 0.0656 - accuracy: 0.6174 - val_loss: 0.0645 - val_accuracy: 0.6257\n",
            "Epoch 22/50\n",
            "469/469 [==============================] - 1s 3ms/step - loss: 0.0642 - accuracy: 0.6277 - val_loss: 0.0630 - val_accuracy: 0.6329\n",
            "Epoch 23/50\n",
            "469/469 [==============================] - 1s 3ms/step - loss: 0.0627 - accuracy: 0.6364 - val_loss: 0.0615 - val_accuracy: 0.6411\n",
            "Epoch 24/50\n",
            "469/469 [==============================] - 1s 3ms/step - loss: 0.0613 - accuracy: 0.6446 - val_loss: 0.0600 - val_accuracy: 0.6492\n",
            "Epoch 25/50\n",
            "469/469 [==============================] - 1s 3ms/step - loss: 0.0598 - accuracy: 0.6524 - val_loss: 0.0586 - val_accuracy: 0.6584\n",
            "Epoch 26/50\n",
            "469/469 [==============================] - 2s 3ms/step - loss: 0.0585 - accuracy: 0.6606 - val_loss: 0.0572 - val_accuracy: 0.6679\n",
            "Epoch 27/50\n",
            "469/469 [==============================] - 1s 3ms/step - loss: 0.0571 - accuracy: 0.6680 - val_loss: 0.0559 - val_accuracy: 0.6790\n",
            "Epoch 28/50\n",
            "469/469 [==============================] - 1s 3ms/step - loss: 0.0558 - accuracy: 0.6766 - val_loss: 0.0546 - val_accuracy: 0.6868\n",
            "Epoch 29/50\n",
            "469/469 [==============================] - 2s 4ms/step - loss: 0.0545 - accuracy: 0.6854 - val_loss: 0.0533 - val_accuracy: 0.6958\n",
            "Epoch 30/50\n",
            "469/469 [==============================] - 1s 3ms/step - loss: 0.0533 - accuracy: 0.6929 - val_loss: 0.0520 - val_accuracy: 0.7041\n",
            "Epoch 31/50\n",
            "469/469 [==============================] - 1s 3ms/step - loss: 0.0521 - accuracy: 0.7020 - val_loss: 0.0509 - val_accuracy: 0.7142\n",
            "Epoch 32/50\n",
            "469/469 [==============================] - 2s 3ms/step - loss: 0.0509 - accuracy: 0.7100 - val_loss: 0.0497 - val_accuracy: 0.7214\n",
            "Epoch 33/50\n",
            "469/469 [==============================] - 1s 3ms/step - loss: 0.0498 - accuracy: 0.7175 - val_loss: 0.0486 - val_accuracy: 0.7306\n",
            "Epoch 34/50\n",
            "469/469 [==============================] - 1s 3ms/step - loss: 0.0488 - accuracy: 0.7249 - val_loss: 0.0476 - val_accuracy: 0.7380\n",
            "Epoch 35/50\n",
            "469/469 [==============================] - 2s 3ms/step - loss: 0.0478 - accuracy: 0.7319 - val_loss: 0.0465 - val_accuracy: 0.7448\n",
            "Epoch 36/50\n",
            "469/469 [==============================] - 2s 3ms/step - loss: 0.0468 - accuracy: 0.7384 - val_loss: 0.0456 - val_accuracy: 0.7511\n",
            "Epoch 37/50\n",
            "469/469 [==============================] - 1s 3ms/step - loss: 0.0459 - accuracy: 0.7445 - val_loss: 0.0446 - val_accuracy: 0.7560\n",
            "Epoch 38/50\n",
            "469/469 [==============================] - 2s 3ms/step - loss: 0.0450 - accuracy: 0.7491 - val_loss: 0.0438 - val_accuracy: 0.7615\n",
            "Epoch 39/50\n",
            "469/469 [==============================] - 1s 3ms/step - loss: 0.0441 - accuracy: 0.7535 - val_loss: 0.0429 - val_accuracy: 0.7660\n",
            "Epoch 40/50\n",
            "469/469 [==============================] - 1s 3ms/step - loss: 0.0433 - accuracy: 0.7586 - val_loss: 0.0421 - val_accuracy: 0.7691\n",
            "Epoch 41/50\n",
            "469/469 [==============================] - 1s 3ms/step - loss: 0.0425 - accuracy: 0.7620 - val_loss: 0.0413 - val_accuracy: 0.7731\n",
            "Epoch 42/50\n",
            "469/469 [==============================] - 1s 3ms/step - loss: 0.0417 - accuracy: 0.7651 - val_loss: 0.0405 - val_accuracy: 0.7765\n",
            "Epoch 43/50\n",
            "469/469 [==============================] - 2s 4ms/step - loss: 0.0410 - accuracy: 0.7686 - val_loss: 0.0398 - val_accuracy: 0.7802\n",
            "Epoch 44/50\n",
            "469/469 [==============================] - 2s 4ms/step - loss: 0.0403 - accuracy: 0.7721 - val_loss: 0.0391 - val_accuracy: 0.7835\n",
            "Epoch 45/50\n",
            "469/469 [==============================] - 1s 3ms/step - loss: 0.0396 - accuracy: 0.7756 - val_loss: 0.0384 - val_accuracy: 0.7880\n",
            "Epoch 46/50\n",
            "469/469 [==============================] - 1s 3ms/step - loss: 0.0389 - accuracy: 0.7797 - val_loss: 0.0377 - val_accuracy: 0.7926\n",
            "Epoch 47/50\n",
            "469/469 [==============================] - 1s 3ms/step - loss: 0.0383 - accuracy: 0.7852 - val_loss: 0.0371 - val_accuracy: 0.7985\n",
            "Epoch 48/50\n",
            "469/469 [==============================] - 2s 3ms/step - loss: 0.0377 - accuracy: 0.7908 - val_loss: 0.0365 - val_accuracy: 0.8045\n",
            "Epoch 49/50\n",
            "469/469 [==============================] - 2s 4ms/step - loss: 0.0371 - accuracy: 0.7957 - val_loss: 0.0359 - val_accuracy: 0.8100\n",
            "Epoch 50/50\n",
            "469/469 [==============================] - 1s 3ms/step - loss: 0.0365 - accuracy: 0.8008 - val_loss: 0.0353 - val_accuracy: 0.8154\n"
          ]
        },
        {
          "output_type": "execute_result",
          "data": {
            "text/plain": [
              "<keras.callbacks.History at 0x7fa8345afb20>"
            ]
          },
          "metadata": {},
          "execution_count": 11
        }
      ]
    },
    {
      "cell_type": "markdown",
      "source": [
        "***evaluating model performance***"
      ],
      "metadata": {
        "id": "FdEH5edpaQd5"
      }
    },
    {
      "cell_type": "code",
      "source": [
        "model.evaluate(X_valid, y_valid)"
      ],
      "metadata": {
        "colab": {
          "base_uri": "https://localhost:8080/"
        },
        "id": "zWcR--g0aGE7",
        "outputId": "6d72cf01-c76b-44ad-82f5-c3ed64c66a31"
      },
      "execution_count": 12,
      "outputs": [
        {
          "output_type": "stream",
          "name": "stdout",
          "text": [
            "313/313 [==============================] - 1s 2ms/step - loss: 0.0353 - accuracy: 0.8154\n"
          ]
        },
        {
          "output_type": "execute_result",
          "data": {
            "text/plain": [
              "[0.03527908772230148, 0.8154000043869019]"
            ]
          },
          "metadata": {},
          "execution_count": 12
        }
      ]
    },
    {
      "cell_type": "markdown",
      "source": [
        "***sample of prediction***"
      ],
      "metadata": {
        "id": "m0rvC-NqbR9Z"
      }
    },
    {
      "cell_type": "code",
      "source": [
        "temp_data = X_valid[0].reshape(28, 28)\n",
        "plt.imshow(temp_data, cmap=\"Greys\")\n",
        "\n",
        "print(\"This is the actual number:\", y_valid[0])\n",
        "\n",
        "temp_data = temp_data.reshape(1, 784)\n",
        "print(\"This is the model prediction:\", np.argmax(model.predict(temp_data), axis=-1))"
      ],
      "metadata": {
        "colab": {
          "base_uri": "https://localhost:8080/",
          "height": 317
        },
        "id": "UrngKZx1bBUG",
        "outputId": "934142ee-0df0-4145-b916-3ac91df4f704"
      },
      "execution_count": 13,
      "outputs": [
        {
          "output_type": "stream",
          "name": "stdout",
          "text": [
            "This is the actual number: [0. 0. 0. 0. 0. 0. 0. 1. 0. 0.]\n",
            "1/1 [==============================] - 0s 63ms/step\n",
            "This is the model prediction: [7]\n"
          ]
        },
        {
          "output_type": "display_data",
          "data": {
            "text/plain": [
              "<Figure size 432x288 with 1 Axes>"
            ],
            "image/png": "[encoded data removed]"
          },
          "metadata": {
            "needs_background": "light"
          }
        }
      ]
    }
  ]
}